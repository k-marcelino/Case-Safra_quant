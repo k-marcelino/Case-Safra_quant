{
 "cells": [
  {
   "cell_type": "code",
   "execution_count": 1,
   "metadata": {},
   "outputs": [],
   "source": [
    "# Ref: https://towardsdatascience.com/financial-data-from-yahoo-finance-with-python-b5399743bcc6\n",
    "\n",
    "import pandas as pd\n",
    "import numpy as np\n",
    "import requests\n",
    "import json\n",
    "import yfinance as yf\n",
    "import matplotlib.pyplot as plt\n",
    "import seaborn as sns\n",
    "from bs4 import BeautifulSoup\n"
   ]
  },
  {
   "cell_type": "code",
   "execution_count": 2,
   "metadata": {},
   "outputs": [
    {
     "name": "stdout",
     "output_type": "stream",
     "text": [
      "Consumer Cyclical\n",
      "103.66972\n",
      "1.3332\n"
     ]
    }
   ],
   "source": [
    "Amazon = yf.Ticker(\"AMZN\") \n",
    "\n",
    "# 1) Company Sector \n",
    "print(Amazon.info['sector']) \n",
    "\n",
    "# 2) Price Earnings Ratio \n",
    "print(Amazon.info['trailingPE'])\n",
    "#95.41489 \n",
    "\n",
    "# 3) Company Beta \n",
    "print(Amazon.info['beta'])\n",
    "#95.41489"
   ]
  },
  {
   "cell_type": "code",
   "execution_count": 3,
   "metadata": {},
   "outputs": [
    {
     "name": "stdout",
     "output_type": "stream",
     "text": [
      "dict_keys(['zip', 'sector', 'fullTimeEmployees', 'longBusinessSummary', 'city', 'phone', 'state', 'country', 'companyOfficers', 'website', 'maxAge', 'address1', 'industry', 'ebitdaMargins', 'profitMargins', 'grossMargins', 'operatingCashflow', 'revenueGrowth', 'operatingMargins', 'ebitda', 'targetLowPrice', 'recommendationKey', 'grossProfits', 'freeCashflow', 'targetMedianPrice', 'currentPrice', 'earningsGrowth', 'currentRatio', 'returnOnAssets', 'numberOfAnalystOpinions', 'targetMeanPrice', 'debtToEquity', 'returnOnEquity', 'targetHighPrice', 'totalCash', 'totalDebt', 'totalRevenue', 'totalCashPerShare', 'financialCurrency', 'revenuePerShare', 'quickRatio', 'recommendationMean', 'exchange', 'shortName', 'longName', 'exchangeTimezoneName', 'exchangeTimezoneShortName', 'isEsgPopulated', 'gmtOffSetMilliseconds', 'quoteType', 'symbol', 'messageBoardId', 'market', 'annualHoldingsTurnover', 'enterpriseToRevenue', 'beta3Year', 'enterpriseToEbitda', '52WeekChange', 'morningStarRiskRating', 'forwardEps', 'revenueQuarterlyGrowth', 'sharesOutstanding', 'fundInceptionDate', 'annualReportExpenseRatio', 'totalAssets', 'bookValue', 'sharesShort', 'sharesPercentSharesOut', 'fundFamily', 'lastFiscalYearEnd', 'heldPercentInstitutions', 'netIncomeToCommon', 'trailingEps', 'lastDividendValue', 'SandP52WeekChange', 'priceToBook', 'heldPercentInsiders', 'nextFiscalYearEnd', 'yield', 'mostRecentQuarter', 'shortRatio', 'sharesShortPreviousMonthDate', 'floatShares', 'beta', 'enterpriseValue', 'priceHint', 'threeYearAverageReturn', 'lastSplitDate', 'lastSplitFactor', 'legalType', 'lastDividendDate', 'morningStarOverallRating', 'earningsQuarterlyGrowth', 'priceToSalesTrailing12Months', 'dateShortInterest', 'pegRatio', 'ytdReturn', 'forwardPE', 'lastCapGain', 'shortPercentOfFloat', 'sharesShortPriorMonth', 'impliedSharesOutstanding', 'category', 'fiveYearAverageReturn', 'previousClose', 'regularMarketOpen', 'twoHundredDayAverage', 'trailingAnnualDividendYield', 'payoutRatio', 'volume24Hr', 'regularMarketDayHigh', 'navPrice', 'averageDailyVolume10Day', 'regularMarketPreviousClose', 'fiftyDayAverage', 'trailingAnnualDividendRate', 'open', 'toCurrency', 'averageVolume10days', 'expireDate', 'algorithm', 'dividendRate', 'exDividendDate', 'circulatingSupply', 'startDate', 'regularMarketDayLow', 'currency', 'trailingPE', 'regularMarketVolume', 'lastMarket', 'maxSupply', 'openInterest', 'marketCap', 'volumeAllCurrencies', 'strikePrice', 'averageVolume', 'dayLow', 'ask', 'askSize', 'volume', 'fiftyTwoWeekHigh', 'fromCurrency', 'fiveYearAvgDividendYield', 'fiftyTwoWeekLow', 'bid', 'tradeable', 'dividendYield', 'bidSize', 'dayHigh', 'coinMarketCapLink', 'regularMarketPrice', 'preMarketPrice', 'logo_url', 'trailingPegRatio'])\n"
     ]
    }
   ],
   "source": [
    "print(Amazon.info.keys()) "
   ]
  },
  {
   "cell_type": "code",
   "execution_count": 5,
   "metadata": {},
   "outputs": [
    {
     "name": "stdout",
     "output_type": "stream",
     "text": [
      "                  Open        High         Low       Close      Volume  \\\n",
      "Date                                                                     \n",
      "1997-05-15    0.121875    0.125000    0.096354    0.097917  1443120000   \n",
      "1997-05-16    0.098438    0.098958    0.085417    0.086458   294000000   \n",
      "1997-05-19    0.088021    0.088542    0.081250    0.085417   122136000   \n",
      "1997-05-20    0.086458    0.087500    0.081771    0.081771   109344000   \n",
      "1997-05-21    0.081771    0.082292    0.068750    0.071354   377064000   \n",
      "...                ...         ...         ...         ...         ...   \n",
      "2022-09-26  113.300003  117.339996  113.129997  115.150002    62723300   \n",
      "2022-09-27  117.199997  118.320000  113.050003  114.410004    60094700   \n",
      "2022-09-28  114.379997  118.699997  113.800003  118.010002    55763800   \n",
      "2022-09-29  115.599998  116.070000  113.059998  114.800003    58969700   \n",
      "2022-09-30  114.080002  116.919998  112.839996  113.000000    59409800   \n",
      "\n",
      "            Dividends  Stock Splits  \n",
      "Date                                 \n",
      "1997-05-15          0           0.0  \n",
      "1997-05-16          0           0.0  \n",
      "1997-05-19          0           0.0  \n",
      "1997-05-20          0           0.0  \n",
      "1997-05-21          0           0.0  \n",
      "...               ...           ...  \n",
      "2022-09-26          0           0.0  \n",
      "2022-09-27          0           0.0  \n",
      "2022-09-28          0           0.0  \n",
      "2022-09-29          0           0.0  \n",
      "2022-09-30          0           0.0  \n",
      "\n",
      "[6388 rows x 7 columns]\n"
     ]
    }
   ],
   "source": [
    "Amazon = yf.Ticker(\"AMZN\") \n",
    "print(Amazon.history(period=\"max\"))\n"
   ]
  },
  {
   "cell_type": "code",
   "execution_count": null,
   "metadata": {},
   "outputs": [],
   "source": []
  }
 ],
 "metadata": {
  "kernelspec": {
   "display_name": "Python 3.10.7 64-bit",
   "language": "python",
   "name": "python3"
  },
  "language_info": {
   "codemirror_mode": {
    "name": "ipython",
    "version": 3
   },
   "file_extension": ".py",
   "mimetype": "text/x-python",
   "name": "python",
   "nbconvert_exporter": "python",
   "pygments_lexer": "ipython3",
   "version": "3.10.7"
  },
  "orig_nbformat": 4,
  "vscode": {
   "interpreter": {
    "hash": "a289efcc8cdaddc677488112ca48e5ab9c82fb738b15b56b6e2d579b8cc30a69"
   }
  }
 },
 "nbformat": 4,
 "nbformat_minor": 2
}
